{
  "nbformat": 4,
  "nbformat_minor": 0,
  "metadata": {
    "colab": {
      "provenance": [],
      "mount_file_id": "12M0ETFqdJzaU61WLvOkf6EObgOSHwNix",
      "authorship_tag": "ABX9TyMAP3m8bBTNDOz94VLLiwzC"
    },
    "kernelspec": {
      "name": "python3",
      "display_name": "Python 3"
    },
    "language_info": {
      "name": "python"
    }
  },
  "cells": [
    {
      "cell_type": "markdown",
      "source": [
        "# **INF4039 Deep Learning Systems**\n",
        "## Laboratory work No.2\n",
        "### Prepared by: Bohdan Zhyhun (IF2000102)"
      ],
      "metadata": {
        "id": "b79Z9_VvhUAX"
      }
    },
    {
      "cell_type": "markdown",
      "source": [
        "## **Task 1**\n",
        "Prepare \"Titanic.csv\" dataset for deep learning. Explain in report (or notebook) what actions you did and why.\n",
        "\n"
      ],
      "metadata": {
        "id": "AUOgCw11huql"
      }
    },
    {
      "cell_type": "markdown",
      "source": [
        "###Step 1: Data Loading and Exploration\n",
        "We will load the data, explore its initial rows, and check basic statistics and information about the dataset."
      ],
      "metadata": {
        "id": "295EnzKQkEv7"
      }
    },
    {
      "cell_type": "code",
      "source": [
        "# Mont Google drive and configure the path to the \"Titanic.csv\"\n",
        "from google.colab import drive\n",
        "drive.mount('/content/drive')\n",
        "BASE_PATH = '/content/drive/MyDrive/Deep_learning/Titanic.csv'"
      ],
      "metadata": {
        "colab": {
          "base_uri": "https://localhost:8080/"
        },
        "id": "kMpLC_sPh3xS",
        "outputId": "f616d96a-d979-4a3c-90b3-7868da55515b"
      },
      "execution_count": 31,
      "outputs": [
        {
          "output_type": "stream",
          "name": "stdout",
          "text": [
            "Drive already mounted at /content/drive; to attempt to forcibly remount, call drive.mount(\"/content/drive\", force_remount=True).\n"
          ]
        }
      ]
    },
    {
      "cell_type": "code",
      "source": [
        "#Install pandas\n",
        "!pip install pandas"
      ],
      "metadata": {
        "colab": {
          "base_uri": "https://localhost:8080/"
        },
        "id": "_bKm2zBNjFeu",
        "outputId": "4622e913-9e56-423f-ae1b-d1e37d0aea0b"
      },
      "execution_count": 32,
      "outputs": [
        {
          "output_type": "stream",
          "name": "stdout",
          "text": [
            "Requirement already satisfied: pandas in /usr/local/lib/python3.10/dist-packages (1.5.3)\n",
            "Requirement already satisfied: python-dateutil>=2.8.1 in /usr/local/lib/python3.10/dist-packages (from pandas) (2.8.2)\n",
            "Requirement already satisfied: pytz>=2020.1 in /usr/local/lib/python3.10/dist-packages (from pandas) (2023.3.post1)\n",
            "Requirement already satisfied: numpy>=1.21.0 in /usr/local/lib/python3.10/dist-packages (from pandas) (1.23.5)\n",
            "Requirement already satisfied: six>=1.5 in /usr/local/lib/python3.10/dist-packages (from python-dateutil>=2.8.1->pandas) (1.16.0)\n"
          ]
        }
      ]
    },
    {
      "cell_type": "code",
      "source": [
        "import pandas as pd\n"
      ],
      "metadata": {
        "id": "1HtKcNkSkPGz"
      },
      "execution_count": 33,
      "outputs": []
    },
    {
      "cell_type": "code",
      "source": [
        "# Upload the dataset\n",
        "titanic_data = pd.read_csv(BASE_PATH)"
      ],
      "metadata": {
        "id": "942jcEIokZwQ"
      },
      "execution_count": 34,
      "outputs": []
    },
    {
      "cell_type": "code",
      "source": [
        "# Display the first few rows of the dataset\n",
        "titanic_head = titanic_data.head()\n",
        "\n",
        "# Display basic information about the dataset\n",
        "titanic_info = titanic_data.info()\n",
        "\n",
        "# Display basic statistics about the dataset\n",
        "titanic_describe = titanic_data.describe()\n",
        "\n",
        "(titanic_head, titanic_info, titanic_describe)"
      ],
      "metadata": {
        "colab": {
          "base_uri": "https://localhost:8080/"
        },
        "id": "KEB-tFqikklk",
        "outputId": "11b9cefb-7db8-4566-be44-a4e294078c78"
      },
      "execution_count": 39,
      "outputs": [
        {
          "output_type": "stream",
          "name": "stdout",
          "text": [
            "<class 'pandas.core.frame.DataFrame'>\n",
            "RangeIndex: 891 entries, 0 to 890\n",
            "Data columns (total 12 columns):\n",
            " #   Column       Non-Null Count  Dtype  \n",
            "---  ------       --------------  -----  \n",
            " 0   PassengerId  891 non-null    int64  \n",
            " 1   Survived     891 non-null    int64  \n",
            " 2   Pclass       891 non-null    int64  \n",
            " 3   Name         891 non-null    object \n",
            " 4   Sex          891 non-null    object \n",
            " 5   Age          714 non-null    float64\n",
            " 6   SibSp        891 non-null    int64  \n",
            " 7   Parch        891 non-null    int64  \n",
            " 8   Ticket       891 non-null    object \n",
            " 9   Fare         891 non-null    float64\n",
            " 10  Cabin        204 non-null    object \n",
            " 11  Embarked     889 non-null    object \n",
            "dtypes: float64(2), int64(5), object(5)\n",
            "memory usage: 83.7+ KB\n"
          ]
        },
        {
          "output_type": "execute_result",
          "data": {
            "text/plain": [
              "(   PassengerId  Survived  Pclass  \\\n",
              " 0            1         0       3   \n",
              " 1            2         1       1   \n",
              " 2            3         1       3   \n",
              " 3            4         1       1   \n",
              " 4            5         0       3   \n",
              " \n",
              "                                                 Name     Sex       Age  SibSp  \\\n",
              " 0                            Braund, Mr. Owen Harris    male  0.271174      1   \n",
              " 1  Cumings, Mrs. John Bradley (Florence Briggs Th...  female  0.472229      1   \n",
              " 2                             Heikkinen, Miss. Laina  female  0.321438      0   \n",
              " 3       Futrelle, Mrs. Jacques Heath (Lily May Peel)  female  0.434531      1   \n",
              " 4                           Allen, Mr. William Henry    male  0.434531      0   \n",
              " \n",
              "    Parch            Ticket      Fare Cabin Embarked  \n",
              " 0      0         A/5 21171  0.014151   NaN        S  \n",
              " 1      0          PC 17599  0.139136   C85        C  \n",
              " 2      0  STON/O2. 3101282  0.015469   NaN        S  \n",
              " 3      0            113803  0.103644  C123        S  \n",
              " 4      0            373450  0.015713   NaN        S  ,\n",
              " None,\n",
              "        PassengerId    Survived      Pclass         Age       SibSp  \\\n",
              " count   891.000000  891.000000  891.000000  714.000000  891.000000   \n",
              " mean    446.000000    0.383838    2.308642    0.367921    0.523008   \n",
              " std     257.353842    0.486592    0.836071    0.182540    1.102743   \n",
              " min       1.000000    0.000000    1.000000    0.000000    0.000000   \n",
              " 25%     223.500000    0.000000    2.000000    0.247612    0.000000   \n",
              " 50%     446.000000    0.000000    3.000000    0.346569    0.000000   \n",
              " 75%     668.500000    1.000000    3.000000    0.472229    1.000000   \n",
              " max     891.000000    1.000000    3.000000    1.000000    8.000000   \n",
              " \n",
              "             Parch        Fare  \n",
              " count  891.000000  891.000000  \n",
              " mean     0.381594    0.062858  \n",
              " std      0.806057    0.096995  \n",
              " min      0.000000    0.000000  \n",
              " 25%      0.000000    0.015440  \n",
              " 50%      0.000000    0.028213  \n",
              " 75%      0.000000    0.060508  \n",
              " max      6.000000    1.000000  )"
            ]
          },
          "metadata": {},
          "execution_count": 39
        }
      ]
    },
    {
      "cell_type": "code",
      "source": [],
      "metadata": {
        "id": "narogLdx1BBF"
      },
      "execution_count": null,
      "outputs": []
    },
    {
      "cell_type": "markdown",
      "source": [
        "###**Exploration Results**:\n",
        "General Data Info\n",
        "\n",
        "*   Total Entries: 891\n",
        "*   Attributes:\n",
        "    *   Numerical: PassengerId, Survived, Pclass, Age, SibSp, Parch, Fare\n",
        "    *   Categorical: Name, Sex, Ticket, Cabin, Embarked\n",
        "* Memory Usage: 83.7+ KB\n",
        "\n",
        "Missing Values\n",
        "* Age: 714 non-null (177 missing)\n",
        "* Cabin: 204 non-null (687 missing)\n",
        "* Embarked: 889 non-null (2 missing)\n",
        "\n",
        "Basic Statistics\n",
        "\n",
        "* Age: Range from 0.42 to 80, mean is approximately 30.\n",
        "* Fare: Highly varied, with a minimum of 0 and a maximum of 512.33.\n",
        "* SibSp & Parch: Range from 0 to 8 and 6 respectively, indicating the number of siblings/spouses and parents/children aboard"
      ],
      "metadata": {
        "id": "iuyT4c-KnqvZ"
      }
    },
    {
      "cell_type": "markdown",
      "source": [
        "###Step 2: Handling Missing Values\n",
        "Strategies\n",
        "\n",
        "* Age: Impute missing values using the median.\n",
        "* Cabin:  A large portion of this data is missing. So we will delete this values\n",
        "* Embarked: Impute with the most common embarkation point.\n"
      ],
      "metadata": {
        "id": "js3_bgvKp0yd"
      }
    },
    {
      "cell_type": "code",
      "source": [
        "# Age: Impute with median\n",
        "titanic_data['Age'].fillna(titanic_data['Age'].median(), inplace=True)\n",
        "# Delete 'Cabin'\n",
        "titanic_data = titanic_data.drop(columns=['Cabin'])\n",
        "# Embarked: Impute with most common point\n",
        "most_common_embarkation_point = titanic_data['Embarked'].mode()[0]\n",
        "titanic_data['Embarked'].fillna(most_common_embarkation_point, inplace=True)"
      ],
      "metadata": {
        "id": "c_OQQyQHpxpk"
      },
      "execution_count": 40,
      "outputs": []
    },
    {
      "cell_type": "code",
      "source": [
        "# Check if there are any more missing values\n",
        "missing_values_after = titanic_data.isnull().sum()\n",
        "\n",
        "missing_values_after"
      ],
      "metadata": {
        "colab": {
          "base_uri": "https://localhost:8080/"
        },
        "id": "PVXx0clqqiQF",
        "outputId": "af9c4eeb-1fef-4554-c1a0-f7f3c5ecd4e4"
      },
      "execution_count": 41,
      "outputs": [
        {
          "output_type": "execute_result",
          "data": {
            "text/plain": [
              "PassengerId    0\n",
              "Survived       0\n",
              "Pclass         0\n",
              "Name           0\n",
              "Sex            0\n",
              "Age            0\n",
              "SibSp          0\n",
              "Parch          0\n",
              "Ticket         0\n",
              "Fare           0\n",
              "Embarked       0\n",
              "dtype: int64"
            ]
          },
          "metadata": {},
          "execution_count": 41
        }
      ]
    },
    {
      "cell_type": "markdown",
      "source": [
        "###Step 2 Results:\n",
        "All missing values in **Age** and **Embarked** have been dealt with accordingly. The **Cabin** column has been removed"
      ],
      "metadata": {
        "id": "Vz-kw26rq9sK"
      }
    },
    {
      "cell_type": "markdown",
      "source": [
        "###Step 3: Correlations\n",
        "We'll analyze the correlation between different variables, particularly focusing on how various features correlate with the target variable **Survived**. We'll calculate the Pearson correlation coefficient, which gives an idea about the linear relationship between variables.\n",
        "\n"
      ],
      "metadata": {
        "id": "rPR7tNk8ry8b"
      }
    },
    {
      "cell_type": "code",
      "source": [
        "#import\n",
        "import matplotlib.pyplot as plt\n",
        "import seaborn as sns\n",
        "from sklearn.preprocessing import LabelEncoder"
      ],
      "metadata": {
        "id": "OptFUq0Yq5IX"
      },
      "execution_count": 42,
      "outputs": []
    },
    {
      "cell_type": "code",
      "source": [
        "# Temporarily encode 'Sex' and 'Embarked' for correlation analysis\n",
        "label_encoder = LabelEncoder()\n",
        "titanic_data_temp = titanic_data.copy()\n",
        "titanic_data_temp['Sex'] = label_encoder.fit_transform(titanic_data_temp['Sex'])\n",
        "titanic_data_temp['Embarked'] = label_encoder.fit_transform(titanic_data_temp['Embarked'])\n"
      ],
      "metadata": {
        "id": "Szt4X58Gq5Pk"
      },
      "execution_count": 43,
      "outputs": []
    },
    {
      "cell_type": "code",
      "source": [
        "# Calculate the correlation matrix\n",
        "correlation_matrix = titanic_data_temp.corr()"
      ],
      "metadata": {
        "colab": {
          "base_uri": "https://localhost:8080/"
        },
        "id": "mAL3NQ9Zq5SR",
        "outputId": "da1a9ee5-7dbb-40ac-b236-1b0498f07011"
      },
      "execution_count": 44,
      "outputs": [
        {
          "output_type": "stream",
          "name": "stderr",
          "text": [
            "<ipython-input-44-b5d621c3639b>:2: FutureWarning: The default value of numeric_only in DataFrame.corr is deprecated. In a future version, it will default to False. Select only valid columns or specify the value of numeric_only to silence this warning.\n",
            "  correlation_matrix = titanic_data_temp.corr()\n"
          ]
        }
      ]
    },
    {
      "cell_type": "code",
      "source": [
        "# Display the correlation matrix using a heatmap\n",
        "plt.figure(figsize=(10, 8))\n",
        "sns.heatmap(correlation_matrix, annot=True, cmap='coolwarm', center=0)\n",
        "plt.title('Correlation Matrix of Titanic Variables')\n",
        "plt.show()"
      ],
      "metadata": {
        "colab": {
          "base_uri": "https://localhost:8080/",
          "height": 768
        },
        "id": "bveQa9Fjq5Up",
        "outputId": "93068ce4-9b07-426e-d9e9-5829aefdb1c6"
      },
      "execution_count": 45,
      "outputs": [
        {
          "output_type": "display_data",
          "data": {
            "text/plain": [
              "<Figure size 1000x800 with 2 Axes>"
            ],
            "image/png": "[encoded data removed]"
          },
          "metadata": {}
        }
      ]
    },
    {
      "cell_type": "code",
      "source": [
        "# Display the correlation coefficients of all variables with 'Survived'\n",
        "correlation_with_survived = correlation_matrix['Survived'].sort_values(ascending=False)\n",
        "correlation_with_survived"
      ],
      "metadata": {
        "colab": {
          "base_uri": "https://localhost:8080/"
        },
        "id": "uFUdLYM5sQj2",
        "outputId": "33fe285d-b985-411e-bd78-63f5244ce4da"
      },
      "execution_count": 46,
      "outputs": [
        {
          "output_type": "execute_result",
          "data": {
            "text/plain": [
              "Survived       1.000000\n",
              "Fare           0.257307\n",
              "Parch          0.081629\n",
              "PassengerId   -0.005007\n",
              "SibSp         -0.035322\n",
              "Age           -0.064910\n",
              "Embarked      -0.167675\n",
              "Pclass        -0.338481\n",
              "Sex           -0.543351\n",
              "Name: Survived, dtype: float64"
            ]
          },
          "metadata": {},
          "execution_count": 46
        }
      ]
    },
    {
      "cell_type": "markdown",
      "source": [
        "###Step 3 Results: Correlations\n",
        "The heatmap above provides a visual representation of the correlation between different variables. The values range from -1 to 1, where:\n",
        "\n",
        "* 1 indicates a perfect positive correlation.\n",
        "* -1 indicates a perfect negative correlation.\n",
        "* 0 indicates no linear correlation.\n",
        "\n",
        "Some notable points:\n",
        "\n",
        "* Survived & Pclass: There's a notable negative correlation (-0.338), implying that passenger class affects the survival rate. Likely, 1st class passengers had a higher survival rate.\n",
        "* Pclass & Fare: Not surprisingly, there's a significant negative correlation (-0.549) between passenger class and fare. First-class tickets are more expensive.\n"
      ],
      "metadata": {
        "id": "1gInpjIwsXyK"
      }
    },
    {
      "cell_type": "markdown",
      "source": [
        "### Step 4: Normalize Data\n",
        "Normalization rescales the values into a range of [0,1]. This might be useful for algorithms that use distance computations or for databases with columns that have different units.\n",
        "\n",
        "Strategy:\n",
        "Normalize continuous variables: \"Age\" and \"Fare\".\n",
        "Ensure that the resulting distribution of the normalized variables is as expected."
      ],
      "metadata": {
        "id": "JRkeRMegs37F"
      }
    },
    {
      "cell_type": "markdown",
      "source": [],
      "metadata": {
        "id": "8w-i_yPP1y0x"
      }
    },
    {
      "cell_type": "code",
      "source": [
        "from sklearn.preprocessing import MinMaxScaler\n",
        "# Selecting continuous variables to normalize\n",
        "continuous_vars = ['Age', 'Fare']\n",
        "data_to_normalize = titanic_data[continuous_vars]\n",
        "\n",
        "# Normalizing\n",
        "scaler = MinMaxScaler()\n",
        "normalized_data = pd.DataFrame(scaler.fit_transform(data_to_normalize), columns=continuous_vars)\n",
        "\n",
        "# Updating the original dataset with normalized data\n",
        "titanic_data[continuous_vars] = normalized_data\n",
        "titanic_data.head()"
      ],
      "metadata": {
        "colab": {
          "base_uri": "https://localhost:8080/",
          "height": 206
        },
        "id": "3VOhzuzAuNS_",
        "outputId": "3d2a5c24-d750-4be8-d896-8b915ad8f049"
      },
      "execution_count": 47,
      "outputs": [
        {
          "output_type": "execute_result",
          "data": {
            "text/plain": [
              "   PassengerId  Survived  Pclass  \\\n",
              "0            1         0       3   \n",
              "1            2         1       1   \n",
              "2            3         1       3   \n",
              "3            4         1       1   \n",
              "4            5         0       3   \n",
              "\n",
              "                                                Name     Sex       Age  SibSp  \\\n",
              "0                            Braund, Mr. Owen Harris    male  0.271174      1   \n",
              "1  Cumings, Mrs. John Bradley (Florence Briggs Th...  female  0.472229      1   \n",
              "2                             Heikkinen, Miss. Laina  female  0.321438      0   \n",
              "3       Futrelle, Mrs. Jacques Heath (Lily May Peel)  female  0.434531      1   \n",
              "4                           Allen, Mr. William Henry    male  0.434531      0   \n",
              "\n",
              "   Parch            Ticket      Fare Embarked  \n",
              "0      0         A/5 21171  0.014151        S  \n",
              "1      0          PC 17599  0.139136        C  \n",
              "2      0  STON/O2. 3101282  0.015469        S  \n",
              "3      0            113803  0.103644        S  \n",
              "4      0            373450  0.015713        S  "
            ],
            "text/html": [
              "\n",
              "  <div id=\"df-d2ecac91-1910-4547-b7a7-9a385fe89905\" class=\"colab-df-container\">\n",
              "    <div>\n",
              "<style scoped>\n",
              "    .dataframe tbody tr th:only-of-type {\n",
              "        vertical-align: middle;\n",
              "    }\n",
              "\n",
              "    .dataframe tbody tr th {\n",
              "        vertical-align: top;\n",
              "    }\n",
              "\n",
              "    .dataframe thead th {\n",
              "        text-align: right;\n",
              "    }\n",
              "</style>\n",
              "<table border=\"1\" class=\"dataframe\">\n",
              "  <thead>\n",
              "    <tr style=\"text-align: right;\">\n",
              "      <th></th>\n",
              "      <th>PassengerId</th>\n",
              "      <th>Survived</th>\n",
              "      <th>Pclass</th>\n",
              "      <th>Name</th>\n",
              "      <th>Sex</th>\n",
              "      <th>Age</th>\n",
              "      <th>SibSp</th>\n",
              "      <th>Parch</th>\n",
              "      <th>Ticket</th>\n",
              "      <th>Fare</th>\n",
              "      <th>Embarked</th>\n",
              "    </tr>\n",
              "  </thead>\n",
              "  <tbody>\n",
              "    <tr>\n",
              "      <th>0</th>\n",
              "      <td>1</td>\n",
              "      <td>0</td>\n",
              "      <td>3</td>\n",
              "      <td>Braund, Mr. Owen Harris</td>\n",
              "      <td>male</td>\n",
              "      <td>0.271174</td>\n",
              "      <td>1</td>\n",
              "      <td>0</td>\n",
              "      <td>A/5 21171</td>\n",
              "      <td>0.014151</td>\n",
              "      <td>S</td>\n",
              "    </tr>\n",
              "    <tr>\n",
              "      <th>1</th>\n",
              "      <td>2</td>\n",
              "      <td>1</td>\n",
              "      <td>1</td>\n",
              "      <td>Cumings, Mrs. John Bradley (Florence Briggs Th...</td>\n",
              "      <td>female</td>\n",
              "      <td>0.472229</td>\n",
              "      <td>1</td>\n",
              "      <td>0</td>\n",
              "      <td>PC 17599</td>\n",
              "      <td>0.139136</td>\n",
              "      <td>C</td>\n",
              "    </tr>\n",
              "    <tr>\n",
              "      <th>2</th>\n",
              "      <td>3</td>\n",
              "      <td>1</td>\n",
              "      <td>3</td>\n",
              "      <td>Heikkinen, Miss. Laina</td>\n",
              "      <td>female</td>\n",
              "      <td>0.321438</td>\n",
              "      <td>0</td>\n",
              "      <td>0</td>\n",
              "      <td>STON/O2. 3101282</td>\n",
              "      <td>0.015469</td>\n",
              "      <td>S</td>\n",
              "    </tr>\n",
              "    <tr>\n",
              "      <th>3</th>\n",
              "      <td>4</td>\n",
              "      <td>1</td>\n",
              "      <td>1</td>\n",
              "      <td>Futrelle, Mrs. Jacques Heath (Lily May Peel)</td>\n",
              "      <td>female</td>\n",
              "      <td>0.434531</td>\n",
              "      <td>1</td>\n",
              "      <td>0</td>\n",
              "      <td>113803</td>\n",
              "      <td>0.103644</td>\n",
              "      <td>S</td>\n",
              "    </tr>\n",
              "    <tr>\n",
              "      <th>4</th>\n",
              "      <td>5</td>\n",
              "      <td>0</td>\n",
              "      <td>3</td>\n",
              "      <td>Allen, Mr. William Henry</td>\n",
              "      <td>male</td>\n",
              "      <td>0.434531</td>\n",
              "      <td>0</td>\n",
              "      <td>0</td>\n",
              "      <td>373450</td>\n",
              "      <td>0.015713</td>\n",
              "      <td>S</td>\n",
              "    </tr>\n",
              "  </tbody>\n",
              "</table>\n",
              "</div>\n",
              "    <div class=\"colab-df-buttons\">\n",
              "\n",
              "  <div class=\"colab-df-container\">\n",
              "    <button class=\"colab-df-convert\" onclick=\"convertToInteractive('df-d2ecac91-1910-4547-b7a7-9a385fe89905')\"\n",
              "            title=\"Convert this dataframe to an interactive table.\"\n",
              "            style=\"display:none;\">\n",
              "\n",
              "  <svg xmlns=\"http://www.w3.org/2000/svg\" height=\"24px\" viewBox=\"0 -960 960 960\">\n",
              "    <path d=\"M120-120v-720h720v720H120Zm60-500h600v-160H180v160Zm220 220h160v-160H400v160Zm0 220h160v-160H400v160ZM180-400h160v-160H180v160Zm440 0h160v-160H620v160ZM180-180h160v-160H180v160Zm440 0h160v-160H620v160Z\"/>\n",
              "  </svg>\n",
              "    </button>\n",
              "\n",
              "  <style>\n",
              "    .colab-df-container {\n",
              "      display:flex;\n",
              "      gap: 12px;\n",
              "    }\n",
              "\n",
              "    .colab-df-convert {\n",
              "      background-color: #E8F0FE;\n",
              "      border: none;\n",
              "      border-radius: 50%;\n",
              "      cursor: pointer;\n",
              "      display: none;\n",
              "      fill: #1967D2;\n",
              "      height: 32px;\n",
              "      padding: 0 0 0 0;\n",
              "      width: 32px;\n",
              "    }\n",
              "\n",
              "    .colab-df-convert:hover {\n",
              "      background-color: #E2EBFA;\n",
              "      box-shadow: 0px 1px 2px rgba(60, 64, 67, 0.3), 0px 1px 3px 1px rgba(60, 64, 67, 0.15);\n",
              "      fill: #174EA6;\n",
              "    }\n",
              "\n",
              "    .colab-df-buttons div {\n",
              "      margin-bottom: 4px;\n",
              "    }\n",
              "\n",
              "    [theme=dark] .colab-df-convert {\n",
              "      background-color: #3B4455;\n",
              "      fill: #D2E3FC;\n",
              "    }\n",
              "\n",
              "    [theme=dark] .colab-df-convert:hover {\n",
              "      background-color: #434B5C;\n",
              "      box-shadow: 0px 1px 3px 1px rgba(0, 0, 0, 0.15);\n",
              "      filter: drop-shadow(0px 1px 2px rgba(0, 0, 0, 0.3));\n",
              "      fill: #FFFFFF;\n",
              "    }\n",
              "  </style>\n",
              "\n",
              "    <script>\n",
              "      const buttonEl =\n",
              "        document.querySelector('#df-d2ecac91-1910-4547-b7a7-9a385fe89905 button.colab-df-convert');\n",
              "      buttonEl.style.display =\n",
              "        google.colab.kernel.accessAllowed ? 'block' : 'none';\n",
              "\n",
              "      async function convertToInteractive(key) {\n",
              "        const element = document.querySelector('#df-d2ecac91-1910-4547-b7a7-9a385fe89905');\n",
              "        const dataTable =\n",
              "          await google.colab.kernel.invokeFunction('convertToInteractive',\n",
              "                                                    [key], {});\n",
              "        if (!dataTable) return;\n",
              "\n",
              "        const docLinkHtml = 'Like what you see? Visit the ' +\n",
              "          '<a target=\"_blank\" href=https://colab.research.google.com/notebooks/data_table.ipynb>data table notebook</a>'\n",
              "          + ' to learn more about interactive tables.';\n",
              "        element.innerHTML = '';\n",
              "        dataTable['output_type'] = 'display_data';\n",
              "        await google.colab.output.renderOutput(dataTable, element);\n",
              "        const docLink = document.createElement('div');\n",
              "        docLink.innerHTML = docLinkHtml;\n",
              "        element.appendChild(docLink);\n",
              "      }\n",
              "    </script>\n",
              "  </div>\n",
              "\n",
              "\n",
              "<div id=\"df-cca719d9-8aa5-44e5-ae0d-a2ffe3d256e3\">\n",
              "  <button class=\"colab-df-quickchart\" onclick=\"quickchart('df-cca719d9-8aa5-44e5-ae0d-a2ffe3d256e3')\"\n",
              "            title=\"Suggest charts.\"\n",
              "            style=\"display:none;\">\n",
              "\n",
              "<svg xmlns=\"http://www.w3.org/2000/svg\" height=\"24px\"viewBox=\"0 0 24 24\"\n",
              "     width=\"24px\">\n",
              "    <g>\n",
              "        <path d=\"M19 3H5c-1.1 0-2 .9-2 2v14c0 1.1.9 2 2 2h14c1.1 0 2-.9 2-2V5c0-1.1-.9-2-2-2zM9 17H7v-7h2v7zm4 0h-2V7h2v10zm4 0h-2v-4h2v4z\"/>\n",
              "    </g>\n",
              "</svg>\n",
              "  </button>\n",
              "\n",
              "<style>\n",
              "  .colab-df-quickchart {\n",
              "      --bg-color: #E8F0FE;\n",
              "      --fill-color: #1967D2;\n",
              "      --hover-bg-color: #E2EBFA;\n",
              "      --hover-fill-color: #174EA6;\n",
              "      --disabled-fill-color: #AAA;\n",
              "      --disabled-bg-color: #DDD;\n",
              "  }\n",
              "\n",
              "  [theme=dark] .colab-df-quickchart {\n",
              "      --bg-color: #3B4455;\n",
              "      --fill-color: #D2E3FC;\n",
              "      --hover-bg-color: #434B5C;\n",
              "      --hover-fill-color: #FFFFFF;\n",
              "      --disabled-bg-color: #3B4455;\n",
              "      --disabled-fill-color: #666;\n",
              "  }\n",
              "\n",
              "  .colab-df-quickchart {\n",
              "    background-color: var(--bg-color);\n",
              "    border: none;\n",
              "    border-radius: 50%;\n",
              "    cursor: pointer;\n",
              "    display: none;\n",
              "    fill: var(--fill-color);\n",
              "    height: 32px;\n",
              "    padding: 0;\n",
              "    width: 32px;\n",
              "  }\n",
              "\n",
              "  .colab-df-quickchart:hover {\n",
              "    background-color: var(--hover-bg-color);\n",
              "    box-shadow: 0 1px 2px rgba(60, 64, 67, 0.3), 0 1px 3px 1px rgba(60, 64, 67, 0.15);\n",
              "    fill: var(--button-hover-fill-color);\n",
              "  }\n",
              "\n",
              "  .colab-df-quickchart-complete:disabled,\n",
              "  .colab-df-quickchart-complete:disabled:hover {\n",
              "    background-color: var(--disabled-bg-color);\n",
              "    fill: var(--disabled-fill-color);\n",
              "    box-shadow: none;\n",
              "  }\n",
              "\n",
              "  .colab-df-spinner {\n",
              "    border: 2px solid var(--fill-color);\n",
              "    border-color: transparent;\n",
              "    border-bottom-color: var(--fill-color);\n",
              "    animation:\n",
              "      spin 1s steps(1) infinite;\n",
              "  }\n",
              "\n",
              "  @keyframes spin {\n",
              "    0% {\n",
              "      border-color: transparent;\n",
              "      border-bottom-color: var(--fill-color);\n",
              "      border-left-color: var(--fill-color);\n",
              "    }\n",
              "    20% {\n",
              "      border-color: transparent;\n",
              "      border-left-color: var(--fill-color);\n",
              "      border-top-color: var(--fill-color);\n",
              "    }\n",
              "    30% {\n",
              "      border-color: transparent;\n",
              "      border-left-color: var(--fill-color);\n",
              "      border-top-color: var(--fill-color);\n",
              "      border-right-color: var(--fill-color);\n",
              "    }\n",
              "    40% {\n",
              "      border-color: transparent;\n",
              "      border-right-color: var(--fill-color);\n",
              "      border-top-color: var(--fill-color);\n",
              "    }\n",
              "    60% {\n",
              "      border-color: transparent;\n",
              "      border-right-color: var(--fill-color);\n",
              "    }\n",
              "    80% {\n",
              "      border-color: transparent;\n",
              "      border-right-color: var(--fill-color);\n",
              "      border-bottom-color: var(--fill-color);\n",
              "    }\n",
              "    90% {\n",
              "      border-color: transparent;\n",
              "      border-bottom-color: var(--fill-color);\n",
              "    }\n",
              "  }\n",
              "</style>\n",
              "\n",
              "  <script>\n",
              "    async function quickchart(key) {\n",
              "      const quickchartButtonEl =\n",
              "        document.querySelector('#' + key + ' button');\n",
              "      quickchartButtonEl.disabled = true;  // To prevent multiple clicks.\n",
              "      quickchartButtonEl.classList.add('colab-df-spinner');\n",
              "      try {\n",
              "        const charts = await google.colab.kernel.invokeFunction(\n",
              "            'suggestCharts', [key], {});\n",
              "      } catch (error) {\n",
              "        console.error('Error during call to suggestCharts:', error);\n",
              "      }\n",
              "      quickchartButtonEl.classList.remove('colab-df-spinner');\n",
              "      quickchartButtonEl.classList.add('colab-df-quickchart-complete');\n",
              "    }\n",
              "    (() => {\n",
              "      let quickchartButtonEl =\n",
              "        document.querySelector('#df-cca719d9-8aa5-44e5-ae0d-a2ffe3d256e3 button');\n",
              "      quickchartButtonEl.style.display =\n",
              "        google.colab.kernel.accessAllowed ? 'block' : 'none';\n",
              "    })();\n",
              "  </script>\n",
              "</div>\n",
              "    </div>\n",
              "  </div>\n"
            ]
          },
          "metadata": {},
          "execution_count": 47
        }
      ]
    },
    {
      "cell_type": "code",
      "source": [
        "# Visualization: Distributions before and after normalization\n",
        "fig, axes = plt.subplots(nrows=2, ncols=2, figsize=(14, 10))\n",
        "fig.suptitle('Distributions Before and After Normalization', fontsize=16)\n",
        "\n",
        "# Before Normalization: Age\n",
        "sns.histplot(data_to_normalize['Age'], bins=30, kde=True, ax=axes[0, 0])\n",
        "axes[0, 0].set_title('Age: Before Normalization')\n",
        "\n",
        "# After Normalization: Age\n",
        "sns.histplot(normalized_data['Age'], bins=30, kde=True, ax=axes[0, 1])\n",
        "axes[0, 1].set_title('Age: After Normalization')\n",
        "\n",
        "# Before Normalization: Fare\n",
        "sns.histplot(data_to_normalize['Fare'], bins=30, kde=True, ax=axes[1, 0])\n",
        "axes[1, 0].set_title('Fare: Before Normalization')\n",
        "\n",
        "# After Normalization: Fare\n",
        "sns.histplot(normalized_data['Fare'], bins=30, kde=True, ax=axes[1, 1])\n",
        "axes[1, 1].set_title('Fare: After Normalization')\n",
        "\n",
        "plt.tight_layout(rect=[0, 0.03, 1, 0.95])\n",
        "plt.show()"
      ],
      "metadata": {
        "colab": {
          "base_uri": "https://localhost:8080/",
          "height": 841
        },
        "id": "_9BakqHq28BU",
        "outputId": "a4e69764-9959-45ff-b9d2-2218fdee73c3"
      },
      "execution_count": 48,
      "outputs": [
        {
          "output_type": "display_data",
          "data": {
            "text/plain": [
              "<Figure size 1400x1000 with 4 Axes>"
            ],
            "image/png": "[encoded data removed]"
          },
          "metadata": {}
        }
      ]
    },
    {
      "cell_type": "markdown",
      "source": [
        "###Step 5: Check for Outliers and Remove them\n",
        "Outliers can be observed using various visualization techniques such as box plots or scatter plots. Additionally, statistical methods (like Z-score or IQR) can be used to identify and handle outliers.\n",
        "\n",
        "Strategy:\n",
        "\n",
        "* Visualize potential outliers using box plots for \"Age\" and \"Fare\".\n",
        "* Apply the IQR method to statistically identify outliers.\n",
        "* Decide whether to retain\n"
      ],
      "metadata": {
        "id": "Z3-0-HwxvdC6"
      }
    },
    {
      "cell_type": "code",
      "source": [
        "# Visualizing potential outliers using box plots\n",
        "fig, axes = plt.subplots(nrows=1, ncols=2, figsize=(14, 5))\n",
        "fig.suptitle('Identifying Outliers', fontsize=16)\n",
        "\n",
        "# Boxplot: Age\n",
        "sns.boxplot(x=titanic_data['Age'], ax=axes[0])\n",
        "axes[0].set_title('Boxplot: Age')\n",
        "\n",
        "# Boxplot: Fare\n",
        "sns.boxplot(x=titanic_data['Fare'], ax=axes[1])\n",
        "axes[1].set_title('Boxplot: Fare')\n",
        "\n",
        "plt.tight_layout(rect=[0, 0.03, 1, 0.95])\n",
        "plt.show()"
      ],
      "metadata": {
        "colab": {
          "base_uri": "https://localhost:8080/",
          "height": 431
        },
        "id": "XD8xPhfXvfWu",
        "outputId": "0589a81b-06a4-437f-e4bb-d4c4da0aba81"
      },
      "execution_count": 49,
      "outputs": [
        {
          "output_type": "display_data",
          "data": {
            "text/plain": [
              "<Figure size 1400x500 with 2 Axes>"
            ],
            "image/png": "[encoded data removed]"
          },
          "metadata": {}
        }
      ]
    },
    {
      "cell_type": "code",
      "source": [
        "# Applying the IQR method to statistically identify outliers\n",
        "Q1 = titanic_data[continuous_vars].quantile(0.25)\n",
        "Q3 = titanic_data[continuous_vars].quantile(0.75)\n",
        "IQR = Q3 - Q1\n",
        "\n",
        "# Identifying outliers\n",
        "outliers = ((titanic_data[continuous_vars] < (Q1 - 1.5 * IQR)) | (titanic_data[continuous_vars] > (Q3 + 1.5 * IQR)))\n",
        "outliers_count = outliers.sum()\n",
        "\n",
        "# Displaying the count of identified outliers per variable\n",
        "outliers_count\n"
      ],
      "metadata": {
        "colab": {
          "base_uri": "https://localhost:8080/"
        },
        "id": "9BPs3jJ03tk4",
        "outputId": "5c6b2613-24c2-4de9-aa62-2c1817e485b1"
      },
      "execution_count": 50,
      "outputs": [
        {
          "output_type": "execute_result",
          "data": {
            "text/plain": [
              "Age      66\n",
              "Fare    116\n",
              "dtype: int64"
            ]
          },
          "metadata": {},
          "execution_count": 50
        }
      ]
    },
    {
      "cell_type": "code",
      "source": [
        "# Removing outliers\n",
        "titanic_data_no_outliers = titanic_data[~outliers.any(axis=1)]\n",
        "\n",
        "# Verification: Shape of data before and after removal of outliers\n",
        "data_shape_before = titanic_data.shape\n",
        "data_shape_after = titanic_data_no_outliers.shape\n",
        "\n"
      ],
      "metadata": {
        "id": "cyTId7y63tw8"
      },
      "execution_count": 51,
      "outputs": []
    },
    {
      "cell_type": "code",
      "source": [
        "# Visualization: Distributions after removal of outliers\n",
        "fig, axes = plt.subplots(nrows=1, ncols=2, figsize=(14, 5))\n",
        "fig.suptitle('Distributions After Removal of Outliers', fontsize=16)\n",
        "\n",
        "# Age\n",
        "sns.histplot(titanic_data_no_outliers['Age'], bins=30, kde=True, ax=axes[0])\n",
        "axes[0].set_title('Age: Without Outliers')\n",
        "\n",
        "# Fare\n",
        "sns.histplot(titanic_data_no_outliers['Fare'], bins=30, kde=True, ax=axes[1])\n",
        "axes[1].set_title('Fare: Without Outliers')\n",
        "\n",
        "plt.tight_layout(rect=[0, 0.03, 1, 0.95])\n",
        "plt.show()"
      ],
      "metadata": {
        "colab": {
          "base_uri": "https://localhost:8080/",
          "height": 431
        },
        "id": "SiWbVodj4D98",
        "outputId": "6512bd9c-4b8d-43a5-a210-90d2afe9e44c"
      },
      "execution_count": 52,
      "outputs": [
        {
          "output_type": "display_data",
          "data": {
            "text/plain": [
              "<Figure size 1400x500 with 2 Axes>"
            ],
            "image/png": "[encoded data removed]"
          },
          "metadata": {}
        }
      ]
    },
    {
      "cell_type": "code",
      "source": [
        "# Displaying data shapes and updated data without outliers\n",
        "data_shape_before, data_shape_after, titanic_data_no_outliers.head()"
      ],
      "metadata": {
        "colab": {
          "base_uri": "https://localhost:8080/"
        },
        "id": "2i5l4B0h4EGI",
        "outputId": "39f50db5-d096-429c-996b-718552014bea"
      },
      "execution_count": 53,
      "outputs": [
        {
          "output_type": "execute_result",
          "data": {
            "text/plain": [
              "((891, 11),\n",
              " (721, 11),\n",
              "    PassengerId  Survived  Pclass  \\\n",
              " 0            1         0       3   \n",
              " 2            3         1       3   \n",
              " 3            4         1       1   \n",
              " 4            5         0       3   \n",
              " 5            6         0       3   \n",
              " \n",
              "                                            Name     Sex       Age  SibSp  \\\n",
              " 0                       Braund, Mr. Owen Harris    male  0.271174      1   \n",
              " 2                        Heikkinen, Miss. Laina  female  0.321438      0   \n",
              " 3  Futrelle, Mrs. Jacques Heath (Lily May Peel)  female  0.434531      1   \n",
              " 4                      Allen, Mr. William Henry    male  0.434531      0   \n",
              " 5                              Moran, Mr. James    male  0.346569      0   \n",
              " \n",
              "    Parch            Ticket      Fare Embarked  \n",
              " 0      0         A/5 21171  0.014151        S  \n",
              " 2      0  STON/O2. 3101282  0.015469        S  \n",
              " 3      0            113803  0.103644        S  \n",
              " 4      0            373450  0.015713        S  \n",
              " 5      0            330877  0.016510        Q  )"
            ]
          },
          "metadata": {},
          "execution_count": 53
        }
      ]
    },
    {
      "cell_type": "markdown",
      "source": [
        "Outliers from the \"Age\" and \"Fare\" variables have been removed successfully. The dataset was reduced from\n",
        "891 to 721 entries, indicating the removal of\n",
        "170 outlier entries.\n",
        "\n"
      ],
      "metadata": {
        "id": "fChH-hHDyKpm"
      }
    },
    {
      "cell_type": "markdown",
      "source": [
        "### Step 6: Train/Test Split\n",
        "Splitting the dataset into training and testing subsets ensures that the model can be evaluated on unseen data, providing insights into its likely performance on new data in a production environment.\n",
        "\n",
        "Strategy:\n",
        "* Separate the independent variables (features) and the dependent variable (target) from the data.\n",
        "* Split the data into training and testing sets. A common ratio is 80/20 for training/testing.\n"
      ],
      "metadata": {
        "id": "uvza5Y8D4k2M"
      }
    },
    {
      "cell_type": "code",
      "source": [
        "from sklearn.model_selection import train_test_split\n",
        "\n",
        "# Separate features and target\n",
        "features = titanic_data_no_outliers.drop('Survived', axis=1)\n",
        "target = titanic_data_no_outliers['Survived']\n",
        "\n",
        "# Splitting the data into train and test sets (80/20 ratio)\n",
        "X_train, X_test, y_train, y_test = train_test_split(features, target, test_size=0.2, random_state=42)\n",
        "\n",
        "# Verifying the shapes of the resulting sets\n",
        "(X_train.shape, X_test.shape), (y_train.shape, y_test.shape)"
      ],
      "metadata": {
        "colab": {
          "base_uri": "https://localhost:8080/"
        },
        "id": "RJ6s1Qbr4EKB",
        "outputId": "9122f99d-8619-42c9-aa67-4489f841193a"
      },
      "execution_count": 54,
      "outputs": [
        {
          "output_type": "execute_result",
          "data": {
            "text/plain": [
              "(((576, 10), (145, 10)), ((576,), (145,)))"
            ]
          },
          "metadata": {},
          "execution_count": 54
        }
      ]
    },
    {
      "cell_type": "markdown",
      "source": [
        "###Step 7: Save to File\n",
        "We will save the cleaned and pre-processed datasets to CSV files for future use"
      ],
      "metadata": {
        "id": "cUusP6wnyYUV"
      }
    },
    {
      "cell_type": "code",
      "source": [
        "# Concatenating the training features and target, and saving to CSV\n",
        "train_data = pd.concat([X_train, y_train], axis=1)\n",
        "train_data.to_csv('/content/drive/MyDrive/Deep_learning/titanic_train_cleaned.csv', index=False)\n",
        "\n",
        "# Concatenating the testing features and target, and saving to CSV\n",
        "test_data = pd.concat([X_test, y_test], axis=1)\n",
        "test_data.to_csv('/content/drive/MyDrive/Deep_learning/titanic_test_cleaned.csv', index=False)\n",
        "\n",
        "# Verification: Displaying the first few rows of the cleaned train and test data\n",
        "train_data.head(), test_data.head()"
      ],
      "metadata": {
        "colab": {
          "base_uri": "https://localhost:8080/"
        },
        "id": "LGGhHplp4z3J",
        "outputId": "12508ae4-dd4b-47ee-c759-2fcca1aeb754"
      },
      "execution_count": 55,
      "outputs": [
        {
          "output_type": "execute_result",
          "data": {
            "text/plain": [
              "(     PassengerId  Pclass                         Name     Sex       Age  \\\n",
              " 563          564       3            Simmons, Mr. John    male  0.346569   \n",
              " 443          444       2    Reynaldo, Ms. Encarnacion  female  0.346569   \n",
              " 471          472       3              Cacic, Mr. Luka    male  0.472229   \n",
              " 177          178       1   Isham, Miss. Ann Elizabeth  female  0.623021   \n",
              " 259          260       2  Parrish, Mrs. (Lutie Davis)  female  0.623021   \n",
              " \n",
              "      SibSp  Parch           Ticket      Fare Embarked  Survived  \n",
              " 563      0      0  SOTON/OQ 392082  0.015713        S         0  \n",
              " 443      0      0           230434  0.025374        S         1  \n",
              " 471      0      0           315089  0.016908        S         0  \n",
              " 177      0      0         PC 17595  0.056043        C         0  \n",
              " 259      0      1           230433  0.050749        S         1  ,\n",
              "      PassengerId  Pclass                          Name     Sex       Age  \\\n",
              " 322          323       2     Slayter, Miss. Hilda Mary  female  0.371701   \n",
              " 816          817       3  Heininen, Miss. Wendla Maria  female  0.283740   \n",
              " 93            94       3       Dean, Mr. Bertram Frank    male  0.321438   \n",
              " 80            81       3          Waelens, Mr. Achille    male  0.271174   \n",
              " 99           100       2             Kantor, Mr. Sinai    male  0.421965   \n",
              " \n",
              "      SibSp  Parch            Ticket      Fare Embarked  Survived  \n",
              " 322      0      0            234818  0.024106        Q         1  \n",
              " 816      0      0  STON/O2. 3101290  0.015469        S         0  \n",
              " 93       1      2         C.A. 2315  0.040160        S         0  \n",
              " 80       0      0            345767  0.017567        S         0  \n",
              " 99       1      0            244367  0.050749        S         0  )"
            ]
          },
          "metadata": {},
          "execution_count": 55
        }
      ]
    },
    {
      "cell_type": "markdown",
      "source": [
        "## **Task 2**\n",
        "Prepare your own dataset for deep learning. Explain in report (or notebook) what actions you did and why.\n",
        "\n"
      ],
      "metadata": {
        "id": "-sQQRYwl6GSw"
      }
    },
    {
      "cell_type": "markdown",
      "source": [
        "###Step 1: Getting familiar with the new dataset.\n",
        "\n"
      ],
      "metadata": {
        "id": "_gTuCRqJ6hOf"
      }
    },
    {
      "cell_type": "code",
      "source": [
        "# Upload the dataset\n",
        "transaction_data = pd.read_csv('/content/drive/MyDrive/Deep_learning/lab_2010_transactions.csv')"
      ],
      "metadata": {
        "id": "eutGKdpM6F5I"
      },
      "execution_count": 57,
      "outputs": []
    },
    {
      "cell_type": "code",
      "source": [
        "# Display the first few rows of the dataset\n",
        "transaction_head = transaction_data.head()\n",
        "\n",
        "# Display basic information about the dataset\n",
        "transaction_info = transaction_data.info()\n",
        "\n",
        "# Display basic statistics about the dataset\n",
        "transaction_describe = transaction_data.describe()\n",
        "\n",
        "(transaction_head, transaction_info, transaction_describe)"
      ],
      "metadata": {
        "colab": {
          "base_uri": "https://localhost:8080/"
        },
        "id": "HrvU5P_m6zC6",
        "outputId": "29f85e2b-dc28-4df7-a380-7c1de3cea6fb"
      },
      "execution_count": 58,
      "outputs": [
        {
          "output_type": "stream",
          "name": "stdout",
          "text": [
            "<class 'pandas.core.frame.DataFrame'>\n",
            "RangeIndex: 1495 entries, 0 to 1494\n",
            "Data columns (total 5 columns):\n",
            " #   Column            Non-Null Count  Dtype  \n",
            "---  ------            --------------  -----  \n",
            " 0   customer_id       1495 non-null   object \n",
            " 1   transaction_date  1495 non-null   object \n",
            " 2   ticket_price      1495 non-null   float64\n",
            " 3   discount          102 non-null    object \n",
            " 4   product           1495 non-null   object \n",
            "dtypes: float64(1), object(4)\n",
            "memory usage: 58.5+ KB\n"
          ]
        },
        {
          "output_type": "execute_result",
          "data": {
            "text/plain": [
              "(                        customer_id transaction_date  ticket_price discount  \\\n",
              " 0  660c3305600895f32784a8922e4d6dab       2010/01/02          0.01      NaN   \n",
              " 1  660c3305600895f32784a8922e4d6dab       2010/01/02          9.99      NaN   \n",
              " 2  660c3305600895f32784a8922e4d6dab       2010/02/01          9.99      NaN   \n",
              " 3  660c3305600895f32784a8922e4d6dab       2010/03/03          9.99      NaN   \n",
              " 4  660c3305600895f32784a8922e4d6dab       2010/04/02          9.99      NaN   \n",
              " \n",
              "   product  \n",
              " 0   basic  \n",
              " 1   basic  \n",
              " 2   basic  \n",
              " 3   basic  \n",
              " 4   basic  ,\n",
              " None,\n",
              "        ticket_price\n",
              " count   1495.000000\n",
              " mean      10.888957\n",
              " std        6.070929\n",
              " min        0.010000\n",
              " 25%        9.990000\n",
              " 50%        9.990000\n",
              " 75%       14.990000\n",
              " max       29.990000)"
            ]
          },
          "metadata": {},
          "execution_count": 58
        }
      ]
    },
    {
      "cell_type": "markdown",
      "source": [
        "Basic Information:\n",
        "\n",
        "* Entries: 1495\n",
        "* Features: 5\n",
        "  * customer_id: ID of the customer (Object type)\n",
        "  * transaction_date: Date of the transaction (Object type, should convert to datetime)\n",
        "  * ticket_price: Price of the ticket (Float type)\n",
        "  * discount: Discount information (Object type, contains null values)\n",
        "  * product: Product information (Object type)\n",
        "\n",
        "Summary Statistics:\n",
        "* The **ticket_price** ranges from 0.01 to 29.99, with a mean of 10.89 and median of 9.99. It is the only numeric variable and doesn't seem to have outliers based on the summary statistics.\n",
        "\n",
        "Missing Values:\n",
        "* **discount**: 1393 missing values (suggests that not all transactions have a discount applied)."
      ],
      "metadata": {
        "id": "gKJo2Ipo7F4_"
      }
    },
    {
      "cell_type": "markdown",
      "source": [
        "### Step 2: Deal with Missing Values\n",
        "Strategies\n",
        "* discount:  A large portion of this data is missing. So we will delete this values\n"
      ],
      "metadata": {
        "id": "doDw-v5Y8LFV"
      }
    },
    {
      "cell_type": "code",
      "source": [
        "# Dropping the 'discount' column\n",
        "transaction_cleaned = transaction_data.drop(columns=['discount'], axis=1)\n",
        "\n",
        "# Verifying the operation\n",
        "transaction_cleaned.head(), transaction_cleaned.isnull().sum()"
      ],
      "metadata": {
        "colab": {
          "base_uri": "https://localhost:8080/"
        },
        "id": "xDmREfRU71cX",
        "outputId": "79733ba5-647e-4e1c-d3c5-710eefd99010"
      },
      "execution_count": 60,
      "outputs": [
        {
          "output_type": "execute_result",
          "data": {
            "text/plain": [
              "(                        customer_id transaction_date  ticket_price product\n",
              " 0  660c3305600895f32784a8922e4d6dab       2010/01/02          0.01   basic\n",
              " 1  660c3305600895f32784a8922e4d6dab       2010/01/02          9.99   basic\n",
              " 2  660c3305600895f32784a8922e4d6dab       2010/02/01          9.99   basic\n",
              " 3  660c3305600895f32784a8922e4d6dab       2010/03/03          9.99   basic\n",
              " 4  660c3305600895f32784a8922e4d6dab       2010/04/02          9.99   basic,\n",
              " customer_id         0\n",
              " transaction_date    0\n",
              " ticket_price        0\n",
              " product             0\n",
              " dtype: int64)"
            ]
          },
          "metadata": {},
          "execution_count": 60
        }
      ]
    },
    {
      "cell_type": "markdown",
      "source": [
        "The **discount** column has been successfully removed from the dataset."
      ],
      "metadata": {
        "id": "Zu7tEhZf9ESG"
      }
    },
    {
      "cell_type": "markdown",
      "source": [
        "###Step 3: Correlations\n",
        "The correlation matrix is quite simple, given that we have only one numeric variable, **ticket_price**, in our dataset:\n",
        "\n",
        "\n",
        "\\begin{array}{|r|}\n",
        "\\text{ticket_price} \\\\\n",
        "\\hline\n",
        "1.0 \\\\\n",
        "\\end{array}\n"
      ],
      "metadata": {
        "id": "djelS2x49NSh"
      }
    },
    {
      "cell_type": "markdown",
      "source": [
        "###Step 4: Normalize Data\n",
        "To normalize the data, we'll scale the numerical ticket_price variable to a range between 0 and 1 using the Min-Max normalization technique. This step will ensure that the numerical data is on a consistent scale."
      ],
      "metadata": {
        "id": "0NqCN9CA-ttK"
      }
    },
    {
      "cell_type": "code",
      "source": [
        "# Applying Min-Max normalization to 'ticket_price'\n",
        "transaction_cleaned['ticket_price_normalized'] = (transaction_cleaned['ticket_price'] - transaction_cleaned['ticket_price'].min()) / (transaction_cleaned['ticket_price'].max() - transaction_cleaned['ticket_price'].min())\n",
        "\n",
        "# Verifying the operation\n",
        "transaction_cleaned[['ticket_price', 'ticket_price_normalized']].describe()"
      ],
      "metadata": {
        "colab": {
          "base_uri": "https://localhost:8080/",
          "height": 300
        },
        "id": "Y-DwaBOA9hvx",
        "outputId": "b8c13d16-9b2a-4418-84b7-f1cf6e4af83d"
      },
      "execution_count": 61,
      "outputs": [
        {
          "output_type": "execute_result",
          "data": {
            "text/plain": [
              "       ticket_price  ticket_price_normalized\n",
              "count   1495.000000              1495.000000\n",
              "mean      10.888957                 0.362874\n",
              "std        6.070929                 0.202499\n",
              "min        0.010000                 0.000000\n",
              "25%        9.990000                 0.332889\n",
              "50%        9.990000                 0.332889\n",
              "75%       14.990000                 0.499666\n",
              "max       29.990000                 1.000000"
            ],
            "text/html": [
              "\n",
              "  <div id=\"df-05ff9b8e-a03d-4c85-be47-9f3f3202b03f\" class=\"colab-df-container\">\n",
              "    <div>\n",
              "<style scoped>\n",
              "    .dataframe tbody tr th:only-of-type {\n",
              "        vertical-align: middle;\n",
              "    }\n",
              "\n",
              "    .dataframe tbody tr th {\n",
              "        vertical-align: top;\n",
              "    }\n",
              "\n",
              "    .dataframe thead th {\n",
              "        text-align: right;\n",
              "    }\n",
              "</style>\n",
              "<table border=\"1\" class=\"dataframe\">\n",
              "  <thead>\n",
              "    <tr style=\"text-align: right;\">\n",
              "      <th></th>\n",
              "      <th>ticket_price</th>\n",
              "      <th>ticket_price_normalized</th>\n",
              "    </tr>\n",
              "  </thead>\n",
              "  <tbody>\n",
              "    <tr>\n",
              "      <th>count</th>\n",
              "      <td>1495.000000</td>\n",
              "      <td>1495.000000</td>\n",
              "    </tr>\n",
              "    <tr>\n",
              "      <th>mean</th>\n",
              "      <td>10.888957</td>\n",
              "      <td>0.362874</td>\n",
              "    </tr>\n",
              "    <tr>\n",
              "      <th>std</th>\n",
              "      <td>6.070929</td>\n",
              "      <td>0.202499</td>\n",
              "    </tr>\n",
              "    <tr>\n",
              "      <th>min</th>\n",
              "      <td>0.010000</td>\n",
              "      <td>0.000000</td>\n",
              "    </tr>\n",
              "    <tr>\n",
              "      <th>25%</th>\n",
              "      <td>9.990000</td>\n",
              "      <td>0.332889</td>\n",
              "    </tr>\n",
              "    <tr>\n",
              "      <th>50%</th>\n",
              "      <td>9.990000</td>\n",
              "      <td>0.332889</td>\n",
              "    </tr>\n",
              "    <tr>\n",
              "      <th>75%</th>\n",
              "      <td>14.990000</td>\n",
              "      <td>0.499666</td>\n",
              "    </tr>\n",
              "    <tr>\n",
              "      <th>max</th>\n",
              "      <td>29.990000</td>\n",
              "      <td>1.000000</td>\n",
              "    </tr>\n",
              "  </tbody>\n",
              "</table>\n",
              "</div>\n",
              "    <div class=\"colab-df-buttons\">\n",
              "\n",
              "  <div class=\"colab-df-container\">\n",
              "    <button class=\"colab-df-convert\" onclick=\"convertToInteractive('df-05ff9b8e-a03d-4c85-be47-9f3f3202b03f')\"\n",
              "            title=\"Convert this dataframe to an interactive table.\"\n",
              "            style=\"display:none;\">\n",
              "\n",
              "  <svg xmlns=\"http://www.w3.org/2000/svg\" height=\"24px\" viewBox=\"0 -960 960 960\">\n",
              "    <path d=\"M120-120v-720h720v720H120Zm60-500h600v-160H180v160Zm220 220h160v-160H400v160Zm0 220h160v-160H400v160ZM180-400h160v-160H180v160Zm440 0h160v-160H620v160ZM180-180h160v-160H180v160Zm440 0h160v-160H620v160Z\"/>\n",
              "  </svg>\n",
              "    </button>\n",
              "\n",
              "  <style>\n",
              "    .colab-df-container {\n",
              "      display:flex;\n",
              "      gap: 12px;\n",
              "    }\n",
              "\n",
              "    .colab-df-convert {\n",
              "      background-color: #E8F0FE;\n",
              "      border: none;\n",
              "      border-radius: 50%;\n",
              "      cursor: pointer;\n",
              "      display: none;\n",
              "      fill: #1967D2;\n",
              "      height: 32px;\n",
              "      padding: 0 0 0 0;\n",
              "      width: 32px;\n",
              "    }\n",
              "\n",
              "    .colab-df-convert:hover {\n",
              "      background-color: #E2EBFA;\n",
              "      box-shadow: 0px 1px 2px rgba(60, 64, 67, 0.3), 0px 1px 3px 1px rgba(60, 64, 67, 0.15);\n",
              "      fill: #174EA6;\n",
              "    }\n",
              "\n",
              "    .colab-df-buttons div {\n",
              "      margin-bottom: 4px;\n",
              "    }\n",
              "\n",
              "    [theme=dark] .colab-df-convert {\n",
              "      background-color: #3B4455;\n",
              "      fill: #D2E3FC;\n",
              "    }\n",
              "\n",
              "    [theme=dark] .colab-df-convert:hover {\n",
              "      background-color: #434B5C;\n",
              "      box-shadow: 0px 1px 3px 1px rgba(0, 0, 0, 0.15);\n",
              "      filter: drop-shadow(0px 1px 2px rgba(0, 0, 0, 0.3));\n",
              "      fill: #FFFFFF;\n",
              "    }\n",
              "  </style>\n",
              "\n",
              "    <script>\n",
              "      const buttonEl =\n",
              "        document.querySelector('#df-05ff9b8e-a03d-4c85-be47-9f3f3202b03f button.colab-df-convert');\n",
              "      buttonEl.style.display =\n",
              "        google.colab.kernel.accessAllowed ? 'block' : 'none';\n",
              "\n",
              "      async function convertToInteractive(key) {\n",
              "        const element = document.querySelector('#df-05ff9b8e-a03d-4c85-be47-9f3f3202b03f');\n",
              "        const dataTable =\n",
              "          await google.colab.kernel.invokeFunction('convertToInteractive',\n",
              "                                                    [key], {});\n",
              "        if (!dataTable) return;\n",
              "\n",
              "        const docLinkHtml = 'Like what you see? Visit the ' +\n",
              "          '<a target=\"_blank\" href=https://colab.research.google.com/notebooks/data_table.ipynb>data table notebook</a>'\n",
              "          + ' to learn more about interactive tables.';\n",
              "        element.innerHTML = '';\n",
              "        dataTable['output_type'] = 'display_data';\n",
              "        await google.colab.output.renderOutput(dataTable, element);\n",
              "        const docLink = document.createElement('div');\n",
              "        docLink.innerHTML = docLinkHtml;\n",
              "        element.appendChild(docLink);\n",
              "      }\n",
              "    </script>\n",
              "  </div>\n",
              "\n",
              "\n",
              "<div id=\"df-4e738ca3-1a75-4f10-bfdd-43aa391b2071\">\n",
              "  <button class=\"colab-df-quickchart\" onclick=\"quickchart('df-4e738ca3-1a75-4f10-bfdd-43aa391b2071')\"\n",
              "            title=\"Suggest charts.\"\n",
              "            style=\"display:none;\">\n",
              "\n",
              "<svg xmlns=\"http://www.w3.org/2000/svg\" height=\"24px\"viewBox=\"0 0 24 24\"\n",
              "     width=\"24px\">\n",
              "    <g>\n",
              "        <path d=\"M19 3H5c-1.1 0-2 .9-2 2v14c0 1.1.9 2 2 2h14c1.1 0 2-.9 2-2V5c0-1.1-.9-2-2-2zM9 17H7v-7h2v7zm4 0h-2V7h2v10zm4 0h-2v-4h2v4z\"/>\n",
              "    </g>\n",
              "</svg>\n",
              "  </button>\n",
              "\n",
              "<style>\n",
              "  .colab-df-quickchart {\n",
              "      --bg-color: #E8F0FE;\n",
              "      --fill-color: #1967D2;\n",
              "      --hover-bg-color: #E2EBFA;\n",
              "      --hover-fill-color: #174EA6;\n",
              "      --disabled-fill-color: #AAA;\n",
              "      --disabled-bg-color: #DDD;\n",
              "  }\n",
              "\n",
              "  [theme=dark] .colab-df-quickchart {\n",
              "      --bg-color: #3B4455;\n",
              "      --fill-color: #D2E3FC;\n",
              "      --hover-bg-color: #434B5C;\n",
              "      --hover-fill-color: #FFFFFF;\n",
              "      --disabled-bg-color: #3B4455;\n",
              "      --disabled-fill-color: #666;\n",
              "  }\n",
              "\n",
              "  .colab-df-quickchart {\n",
              "    background-color: var(--bg-color);\n",
              "    border: none;\n",
              "    border-radius: 50%;\n",
              "    cursor: pointer;\n",
              "    display: none;\n",
              "    fill: var(--fill-color);\n",
              "    height: 32px;\n",
              "    padding: 0;\n",
              "    width: 32px;\n",
              "  }\n",
              "\n",
              "  .colab-df-quickchart:hover {\n",
              "    background-color: var(--hover-bg-color);\n",
              "    box-shadow: 0 1px 2px rgba(60, 64, 67, 0.3), 0 1px 3px 1px rgba(60, 64, 67, 0.15);\n",
              "    fill: var(--button-hover-fill-color);\n",
              "  }\n",
              "\n",
              "  .colab-df-quickchart-complete:disabled,\n",
              "  .colab-df-quickchart-complete:disabled:hover {\n",
              "    background-color: var(--disabled-bg-color);\n",
              "    fill: var(--disabled-fill-color);\n",
              "    box-shadow: none;\n",
              "  }\n",
              "\n",
              "  .colab-df-spinner {\n",
              "    border: 2px solid var(--fill-color);\n",
              "    border-color: transparent;\n",
              "    border-bottom-color: var(--fill-color);\n",
              "    animation:\n",
              "      spin 1s steps(1) infinite;\n",
              "  }\n",
              "\n",
              "  @keyframes spin {\n",
              "    0% {\n",
              "      border-color: transparent;\n",
              "      border-bottom-color: var(--fill-color);\n",
              "      border-left-color: var(--fill-color);\n",
              "    }\n",
              "    20% {\n",
              "      border-color: transparent;\n",
              "      border-left-color: var(--fill-color);\n",
              "      border-top-color: var(--fill-color);\n",
              "    }\n",
              "    30% {\n",
              "      border-color: transparent;\n",
              "      border-left-color: var(--fill-color);\n",
              "      border-top-color: var(--fill-color);\n",
              "      border-right-color: var(--fill-color);\n",
              "    }\n",
              "    40% {\n",
              "      border-color: transparent;\n",
              "      border-right-color: var(--fill-color);\n",
              "      border-top-color: var(--fill-color);\n",
              "    }\n",
              "    60% {\n",
              "      border-color: transparent;\n",
              "      border-right-color: var(--fill-color);\n",
              "    }\n",
              "    80% {\n",
              "      border-color: transparent;\n",
              "      border-right-color: var(--fill-color);\n",
              "      border-bottom-color: var(--fill-color);\n",
              "    }\n",
              "    90% {\n",
              "      border-color: transparent;\n",
              "      border-bottom-color: var(--fill-color);\n",
              "    }\n",
              "  }\n",
              "</style>\n",
              "\n",
              "  <script>\n",
              "    async function quickchart(key) {\n",
              "      const quickchartButtonEl =\n",
              "        document.querySelector('#' + key + ' button');\n",
              "      quickchartButtonEl.disabled = true;  // To prevent multiple clicks.\n",
              "      quickchartButtonEl.classList.add('colab-df-spinner');\n",
              "      try {\n",
              "        const charts = await google.colab.kernel.invokeFunction(\n",
              "            'suggestCharts', [key], {});\n",
              "      } catch (error) {\n",
              "        console.error('Error during call to suggestCharts:', error);\n",
              "      }\n",
              "      quickchartButtonEl.classList.remove('colab-df-spinner');\n",
              "      quickchartButtonEl.classList.add('colab-df-quickchart-complete');\n",
              "    }\n",
              "    (() => {\n",
              "      let quickchartButtonEl =\n",
              "        document.querySelector('#df-4e738ca3-1a75-4f10-bfdd-43aa391b2071 button');\n",
              "      quickchartButtonEl.style.display =\n",
              "        google.colab.kernel.accessAllowed ? 'block' : 'none';\n",
              "    })();\n",
              "  </script>\n",
              "</div>\n",
              "    </div>\n",
              "  </div>\n"
            ]
          },
          "metadata": {},
          "execution_count": 61
        }
      ]
    },
    {
      "cell_type": "markdown",
      "source": [
        "The **ticket_price** variable has been successfully normalized into a new variable named ticket_price_normalized. Here are the summary statistics for verification:\n",
        "\n",
        "* Original ticket_price:\n",
        "  * Min: 0.01\n",
        "  * Max: 29.99\n",
        "  * Mean: 10.89\n",
        "  * Median (50%): 9.99\n",
        "* Normalized ticket_price_normalized:\n",
        "  * Min: 0.0 (Scaled down from 0.01)\n",
        "  * Max: 1.0 (Scaled down from 29.99)\n",
        "  * Mean: 0.36\n",
        "  * Median (50%): 0.33\n",
        "\n",
        "This ensures that the numeric data is on a consistent scale, ranging from 0 to 1."
      ],
      "metadata": {
        "id": "SAN1iUpJ_NL6"
      }
    },
    {
      "cell_type": "markdown",
      "source": [
        "###Step 5: Check for Outliers and Remove them\n",
        "We'll inspect the potential outliers in the ticket_price variable, utilizing visual methods (such as boxplots) and the IQR method to identify them."
      ],
      "metadata": {
        "id": "bSAFsSK4_iV5"
      }
    },
    {
      "cell_type": "code",
      "source": [
        "# Visualizing potential outliers with a boxplot\n",
        "plt.figure(figsize=(6, 4))\n",
        "plt.boxplot(transaction_cleaned['ticket_price'], vert=False, labels=['Ticket Price'])\n",
        "plt.title('Boxplot of Ticket Price')\n",
        "plt.xlabel('Price')\n",
        "plt.show()\n",
        "\n",
        "# Identifying outliers using the IQR method\n",
        "Q1 = transaction_cleaned['ticket_price'].quantile(0.25)\n",
        "Q3 = transaction_cleaned['ticket_price'].quantile(0.75)\n",
        "IQR = Q3 - Q1\n",
        "\n",
        "# Defining outlier bounds\n",
        "lower_bound = Q1 - 1.5 * IQR\n",
        "upper_bound = Q3 + 1.5 * IQR\n",
        "\n",
        "# Identifying the outliers\n",
        "outliers = transaction_cleaned[(transaction_cleaned['ticket_price'] < lower_bound) | (transaction_cleaned['ticket_price'] > upper_bound)]\n",
        "\n",
        "# Displaying the outliers and the bounds\n",
        "outliers, lower_bound, upper_bound"
      ],
      "metadata": {
        "colab": {
          "base_uri": "https://localhost:8080/",
          "height": 913
        },
        "id": "1Lyc7sUV_hXR",
        "outputId": "cadc7ff4-e677-4f84-8e52-d9cb7e0a7288"
      },
      "execution_count": 63,
      "outputs": [
        {
          "output_type": "display_data",
          "data": {
            "text/plain": [
              "<Figure size 600x400 with 1 Axes>"
            ],
            "image/png": "[encoded data removed]"
          },
          "metadata": {}
        },
        {
          "output_type": "execute_result",
          "data": {
            "text/plain": [
              "(                           customer_id transaction_date  ticket_price  \\\n",
              " 0     660c3305600895f32784a8922e4d6dab       2010/01/02          0.01   \n",
              " 14    0f4e1d49e68e382f0fae735241d3461f       2010/08/19          0.01   \n",
              " 15    0f4e1d49e68e382f0fae735241d3461f       2010/08/19         29.99   \n",
              " 16    0f4e1d49e68e382f0fae735241d3461f       2010/09/18         29.99   \n",
              " 17    0f4e1d49e68e382f0fae735241d3461f       2010/10/18         29.99   \n",
              " ...                                ...              ...           ...   \n",
              " 1460  4ab1aab411cac804eed20196b694062c       2010/12/01          0.01   \n",
              " 1463  f9e94a8c740618677835b25cf1ed4c92       2010/01/27          0.01   \n",
              " 1476  1754b5524f94948b418771b48d86b4b0       2010/03/09          0.01   \n",
              " 1487  2e7eb06364a45a21d9a41d7d3fe8984b       2010/12/21          0.01   \n",
              " 1489  ba2f841b2caf0359d4e8618a2e4f29ee       2010/08/30          0.01   \n",
              " \n",
              "        product  ticket_price_normalized  \n",
              " 0        basic                      0.0  \n",
              " 14    platinum                      0.0  \n",
              " 15    platinum                      1.0  \n",
              " 16    platinum                      1.0  \n",
              " 17    platinum                      1.0  \n",
              " ...        ...                      ...  \n",
              " 1460     basic                      0.0  \n",
              " 1463    deluxe                      0.0  \n",
              " 1476     basic                      0.0  \n",
              " 1487    deluxe                      0.0  \n",
              " 1489     basic                      0.0  \n",
              " \n",
              " [264 rows x 5 columns],\n",
              " 2.49,\n",
              " 22.490000000000002)"
            ]
          },
          "metadata": {},
          "execution_count": 63
        }
      ]
    },
    {
      "cell_type": "markdown",
      "source": [
        "The boxplot suggests that there are numerous potential outliers in the ticket_price variable.\n",
        "\n",
        "Upon applying the IQR method for outlier detection, we find:\n",
        "\n",
        "* Lower Bound for Outlier Detection: $2.49\n",
        "\n",
        "* Upper Bound for Outlier Detection: $22.49\n",
        "\n",
        "There are 264 entries identified as outliers, primarily due to extremely low or high ticket_price values, which are either 0.01 or 29.99.\n",
        "\n"
      ],
      "metadata": {
        "id": "KG5ZTSJzADYJ"
      }
    },
    {
      "cell_type": "code",
      "source": [
        "# Removing the outliers\n",
        "transaction_no_outliers = transaction_cleaned[(transaction_cleaned['ticket_price'] >= lower_bound) & (transaction_cleaned['ticket_price'] <= upper_bound)]\n",
        "\n",
        "# Verifying the operation\n",
        "transaction_no_outliers.describe(), transaction_cleaned.shape, transaction_no_outliers.shape\n"
      ],
      "metadata": {
        "colab": {
          "base_uri": "https://localhost:8080/"
        },
        "id": "6AmM9LVXAO6r",
        "outputId": "5cfe2472-9609-4fdc-b8ec-58ee2ba82531"
      },
      "execution_count": 65,
      "outputs": [
        {
          "output_type": "execute_result",
          "data": {
            "text/plain": [
              "(       ticket_price  ticket_price_normalized\n",
              " count   1231.000000              1231.000000\n",
              " mean      11.590325                 0.386268\n",
              " std        2.333454                 0.077834\n",
              " min        9.990000                 0.332889\n",
              " 25%        9.990000                 0.332889\n",
              " 50%        9.990000                 0.332889\n",
              " 75%       14.990000                 0.499666\n",
              " max       14.990000                 0.499666,\n",
              " (1495, 5),\n",
              " (1231, 5))"
            ]
          },
          "metadata": {},
          "execution_count": 65
        }
      ]
    },
    {
      "cell_type": "markdown",
      "source": [
        "The outliers have been successfully removed from the dataset. Here's a brief overview:\n",
        "\n",
        "Original Data:\n",
        "* Entries: 1495\n",
        "* Ticket Price: Mean = $10.89, Min = 0.01, Max = 29.99\n",
        "\n",
        "Data Without Outliers:\n",
        "* Entries: 1231 (264 entries removed as outliers)\n",
        "* Ticket Price: Mean = $11.59, Min = 9.99, Max = 14.99"
      ],
      "metadata": {
        "id": "0hjChHiIAlNn"
      }
    },
    {
      "cell_type": "markdown",
      "source": [
        "### Step 7: Train/Test Split\n",
        "We'll split the cleaned data (without outliers) into training and testing samples. A common practice is to allocate 80% of the data for training and 20% for testing, which we will adhere to in this instance. This division allows us to construct a model using the training data and validate its performance using the testing data.\n",
        "\n"
      ],
      "metadata": {
        "id": "BrWQhupyBOJ5"
      }
    },
    {
      "cell_type": "code",
      "source": [
        "train_data, test_data = train_test_split(transaction_no_outliers, test_size=0.2, random_state=42)\n",
        "\n",
        "# Verifying the split\n",
        "train_data.shape, test_data.shape"
      ],
      "metadata": {
        "colab": {
          "base_uri": "https://localhost:8080/"
        },
        "id": "3in95KANAk9k",
        "outputId": "e5076a09-ded2-4c27-e60a-5e4af6595bdf"
      },
      "execution_count": 66,
      "outputs": [
        {
          "output_type": "execute_result",
          "data": {
            "text/plain": [
              "((984, 5), (247, 5))"
            ]
          },
          "metadata": {},
          "execution_count": 66
        }
      ]
    },
    {
      "cell_type": "markdown",
      "source": [
        "###Step 8: Save to File\n",
        "Upon creating the train/test split, we'll save the datasets into two separate CSV files for future use."
      ],
      "metadata": {
        "id": "KEe16u2cBaDM"
      }
    },
    {
      "cell_type": "code",
      "source": [
        "train_data.to_csv('/content/drive/MyDrive/Deep_learning/transactions_train.csv', index=False)\n",
        "test_data.to_csv('/content/drive/MyDrive/Deep_learning/transactions_test.csv', index=False)"
      ],
      "metadata": {
        "id": "e6cedmZoBe8d"
      },
      "execution_count": 67,
      "outputs": []
    }
  ]
}